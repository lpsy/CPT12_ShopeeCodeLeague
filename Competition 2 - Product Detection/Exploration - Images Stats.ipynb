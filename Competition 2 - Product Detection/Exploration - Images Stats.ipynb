{
 "cells": [
  {
   "cell_type": "code",
   "execution_count": 32,
   "metadata": {
    "ExecuteTime": {
     "end_time": "2020-06-21T03:38:01.095342Z",
     "start_time": "2020-06-21T03:38:00.724599Z"
    }
   },
   "outputs": [],
   "source": [
    "import pandas as pd\n",
    "\n",
    "import glob\n",
    "import os\n",
    "import random\n",
    "\n",
    "import matplotlib as mpl\n",
    "import matplotlib.pyplot as plt\n",
    "import cv2\n",
    "\n",
    "plt.style.use('https://gist.githubusercontent.com/lpsy/'\n",
    "              'e81ff2c0decddc9c6dfeb2fcffe37708/raw/lsy_personal.mplstyle')\n"
   ]
  },
  {
   "cell_type": "code",
   "execution_count": 2,
   "metadata": {
    "ExecuteTime": {
     "end_time": "2020-06-20T15:58:02.235346Z",
     "start_time": "2020-06-20T15:58:02.232255Z"
    }
   },
   "outputs": [],
   "source": [
    "DATAPATH = '/mnt/processed/private/msds2020cpt12/shopee-code-league/product-detection'"
   ]
  },
  {
   "cell_type": "code",
   "execution_count": 3,
   "metadata": {
    "ExecuteTime": {
     "end_time": "2020-06-20T15:58:02.336198Z",
     "start_time": "2020-06-20T15:58:02.237091Z"
    },
    "scrolled": true
   },
   "outputs": [],
   "source": [
    "df_train = pd.read_csv(os.path.join(DATAPATH, 'train.csv'))\n",
    "df_test = pd.read_csv(os.path.join(DATAPATH, 'test.csv'))"
   ]
  },
  {
   "cell_type": "code",
   "execution_count": 4,
   "metadata": {
    "ExecuteTime": {
     "end_time": "2020-06-20T15:58:02.362870Z",
     "start_time": "2020-06-20T15:58:02.338031Z"
    },
    "scrolled": true
   },
   "outputs": [
    {
     "data": {
      "text/html": [
       "<div>\n",
       "<style scoped>\n",
       "    .dataframe tbody tr th:only-of-type {\n",
       "        vertical-align: middle;\n",
       "    }\n",
       "\n",
       "    .dataframe tbody tr th {\n",
       "        vertical-align: top;\n",
       "    }\n",
       "\n",
       "    .dataframe thead th {\n",
       "        text-align: right;\n",
       "    }\n",
       "</style>\n",
       "<table border=\"1\" class=\"dataframe\">\n",
       "  <thead>\n",
       "    <tr style=\"text-align: right;\">\n",
       "      <th></th>\n",
       "      <th>filename</th>\n",
       "    </tr>\n",
       "    <tr>\n",
       "      <th>category</th>\n",
       "      <th></th>\n",
       "    </tr>\n",
       "  </thead>\n",
       "  <tbody>\n",
       "    <tr>\n",
       "      <th>24</th>\n",
       "      <td>2705</td>\n",
       "    </tr>\n",
       "    <tr>\n",
       "      <th>30</th>\n",
       "      <td>2705</td>\n",
       "    </tr>\n",
       "    <tr>\n",
       "      <th>3</th>\n",
       "      <td>2703</td>\n",
       "    </tr>\n",
       "    <tr>\n",
       "      <th>4</th>\n",
       "      <td>2703</td>\n",
       "    </tr>\n",
       "    <tr>\n",
       "      <th>1</th>\n",
       "      <td>2702</td>\n",
       "    </tr>\n",
       "    <tr>\n",
       "      <th>27</th>\n",
       "      <td>2702</td>\n",
       "    </tr>\n",
       "    <tr>\n",
       "      <th>8</th>\n",
       "      <td>2700</td>\n",
       "    </tr>\n",
       "    <tr>\n",
       "      <th>9</th>\n",
       "      <td>2698</td>\n",
       "    </tr>\n",
       "    <tr>\n",
       "      <th>25</th>\n",
       "      <td>2692</td>\n",
       "    </tr>\n",
       "    <tr>\n",
       "      <th>12</th>\n",
       "      <td>2691</td>\n",
       "    </tr>\n",
       "    <tr>\n",
       "      <th>2</th>\n",
       "      <td>2687</td>\n",
       "    </tr>\n",
       "    <tr>\n",
       "      <th>36</th>\n",
       "      <td>2686</td>\n",
       "    </tr>\n",
       "    <tr>\n",
       "      <th>14</th>\n",
       "      <td>2684</td>\n",
       "    </tr>\n",
       "    <tr>\n",
       "      <th>26</th>\n",
       "      <td>2684</td>\n",
       "    </tr>\n",
       "    <tr>\n",
       "      <th>0</th>\n",
       "      <td>2683</td>\n",
       "    </tr>\n",
       "    <tr>\n",
       "      <th>13</th>\n",
       "      <td>2682</td>\n",
       "    </tr>\n",
       "    <tr>\n",
       "      <th>40</th>\n",
       "      <td>2681</td>\n",
       "    </tr>\n",
       "    <tr>\n",
       "      <th>19</th>\n",
       "      <td>2679</td>\n",
       "    </tr>\n",
       "    <tr>\n",
       "      <th>39</th>\n",
       "      <td>2678</td>\n",
       "    </tr>\n",
       "    <tr>\n",
       "      <th>31</th>\n",
       "      <td>2677</td>\n",
       "    </tr>\n",
       "    <tr>\n",
       "      <th>38</th>\n",
       "      <td>2673</td>\n",
       "    </tr>\n",
       "    <tr>\n",
       "      <th>10</th>\n",
       "      <td>2672</td>\n",
       "    </tr>\n",
       "    <tr>\n",
       "      <th>16</th>\n",
       "      <td>2665</td>\n",
       "    </tr>\n",
       "    <tr>\n",
       "      <th>41</th>\n",
       "      <td>2662</td>\n",
       "    </tr>\n",
       "    <tr>\n",
       "      <th>7</th>\n",
       "      <td>2660</td>\n",
       "    </tr>\n",
       "    <tr>\n",
       "      <th>35</th>\n",
       "      <td>2658</td>\n",
       "    </tr>\n",
       "    <tr>\n",
       "      <th>20</th>\n",
       "      <td>2653</td>\n",
       "    </tr>\n",
       "    <tr>\n",
       "      <th>5</th>\n",
       "      <td>2641</td>\n",
       "    </tr>\n",
       "    <tr>\n",
       "      <th>6</th>\n",
       "      <td>2641</td>\n",
       "    </tr>\n",
       "    <tr>\n",
       "      <th>15</th>\n",
       "      <td>2632</td>\n",
       "    </tr>\n",
       "    <tr>\n",
       "      <th>22</th>\n",
       "      <td>2623</td>\n",
       "    </tr>\n",
       "    <tr>\n",
       "      <th>34</th>\n",
       "      <td>2599</td>\n",
       "    </tr>\n",
       "    <tr>\n",
       "      <th>21</th>\n",
       "      <td>2598</td>\n",
       "    </tr>\n",
       "    <tr>\n",
       "      <th>28</th>\n",
       "      <td>2561</td>\n",
       "    </tr>\n",
       "    <tr>\n",
       "      <th>23</th>\n",
       "      <td>2540</td>\n",
       "    </tr>\n",
       "    <tr>\n",
       "      <th>32</th>\n",
       "      <td>2157</td>\n",
       "    </tr>\n",
       "    <tr>\n",
       "      <th>29</th>\n",
       "      <td>2138</td>\n",
       "    </tr>\n",
       "    <tr>\n",
       "      <th>18</th>\n",
       "      <td>2103</td>\n",
       "    </tr>\n",
       "    <tr>\n",
       "      <th>11</th>\n",
       "      <td>1843</td>\n",
       "    </tr>\n",
       "    <tr>\n",
       "      <th>37</th>\n",
       "      <td>1725</td>\n",
       "    </tr>\n",
       "    <tr>\n",
       "      <th>17</th>\n",
       "      <td>1553</td>\n",
       "    </tr>\n",
       "    <tr>\n",
       "      <th>33</th>\n",
       "      <td>573</td>\n",
       "    </tr>\n",
       "  </tbody>\n",
       "</table>\n",
       "</div>"
      ],
      "text/plain": [
       "          filename\n",
       "category          \n",
       "24            2705\n",
       "30            2705\n",
       "3             2703\n",
       "4             2703\n",
       "1             2702\n",
       "27            2702\n",
       "8             2700\n",
       "9             2698\n",
       "25            2692\n",
       "12            2691\n",
       "2             2687\n",
       "36            2686\n",
       "14            2684\n",
       "26            2684\n",
       "0             2683\n",
       "13            2682\n",
       "40            2681\n",
       "19            2679\n",
       "39            2678\n",
       "31            2677\n",
       "38            2673\n",
       "10            2672\n",
       "16            2665\n",
       "41            2662\n",
       "7             2660\n",
       "35            2658\n",
       "20            2653\n",
       "5             2641\n",
       "6             2641\n",
       "15            2632\n",
       "22            2623\n",
       "34            2599\n",
       "21            2598\n",
       "28            2561\n",
       "23            2540\n",
       "32            2157\n",
       "29            2138\n",
       "18            2103\n",
       "11            1843\n",
       "37            1725\n",
       "17            1553\n",
       "33             573"
      ]
     },
     "execution_count": 4,
     "metadata": {},
     "output_type": "execute_result"
    }
   ],
   "source": [
    "df_train.groupby('category').count().sort_values('filename', ascending=False)"
   ]
  },
  {
   "cell_type": "code",
   "execution_count": 5,
   "metadata": {
    "ExecuteTime": {
     "end_time": "2020-06-20T15:58:02.371580Z",
     "start_time": "2020-06-20T15:58:02.364622Z"
    }
   },
   "outputs": [
    {
     "data": {
      "text/html": [
       "<div>\n",
       "<style scoped>\n",
       "    .dataframe tbody tr th:only-of-type {\n",
       "        vertical-align: middle;\n",
       "    }\n",
       "\n",
       "    .dataframe tbody tr th {\n",
       "        vertical-align: top;\n",
       "    }\n",
       "\n",
       "    .dataframe thead th {\n",
       "        text-align: right;\n",
       "    }\n",
       "</style>\n",
       "<table border=\"1\" class=\"dataframe\">\n",
       "  <thead>\n",
       "    <tr style=\"text-align: right;\">\n",
       "      <th></th>\n",
       "      <th>filename</th>\n",
       "      <th>category</th>\n",
       "    </tr>\n",
       "  </thead>\n",
       "  <tbody>\n",
       "    <tr>\n",
       "      <th>0</th>\n",
       "      <td>fd663cf2b6e1d7b02938c6aaae0a32d2.jpg</td>\n",
       "      <td>43</td>\n",
       "    </tr>\n",
       "    <tr>\n",
       "      <th>1</th>\n",
       "      <td>c7fd77508a8c355eaab0d4e10efd6b15.jpg</td>\n",
       "      <td>43</td>\n",
       "    </tr>\n",
       "    <tr>\n",
       "      <th>2</th>\n",
       "      <td>127f3e6d6e3491b2459812353f33a913.jpg</td>\n",
       "      <td>43</td>\n",
       "    </tr>\n",
       "    <tr>\n",
       "      <th>3</th>\n",
       "      <td>5ca4f2da11eda083064e6c36f37eeb81.jpg</td>\n",
       "      <td>43</td>\n",
       "    </tr>\n",
       "    <tr>\n",
       "      <th>4</th>\n",
       "      <td>46d681a542f2c71be017eef6aae23313.jpg</td>\n",
       "      <td>43</td>\n",
       "    </tr>\n",
       "  </tbody>\n",
       "</table>\n",
       "</div>"
      ],
      "text/plain": [
       "                               filename  category\n",
       "0  fd663cf2b6e1d7b02938c6aaae0a32d2.jpg        43\n",
       "1  c7fd77508a8c355eaab0d4e10efd6b15.jpg        43\n",
       "2  127f3e6d6e3491b2459812353f33a913.jpg        43\n",
       "3  5ca4f2da11eda083064e6c36f37eeb81.jpg        43\n",
       "4  46d681a542f2c71be017eef6aae23313.jpg        43"
      ]
     },
     "execution_count": 5,
     "metadata": {},
     "output_type": "execute_result"
    }
   ],
   "source": [
    "df_test.head()"
   ]
  },
  {
   "cell_type": "code",
   "execution_count": 6,
   "metadata": {
    "ExecuteTime": {
     "end_time": "2020-06-20T15:58:02.380281Z",
     "start_time": "2020-06-20T15:58:02.373176Z"
    }
   },
   "outputs": [],
   "source": [
    "from collections import defaultdict\n",
    "from tqdm import tqdm"
   ]
  },
  {
   "cell_type": "code",
   "execution_count": 7,
   "metadata": {
    "ExecuteTime": {
     "end_time": "2020-06-20T15:58:02.389221Z",
     "start_time": "2020-06-20T15:58:02.383118Z"
    }
   },
   "outputs": [],
   "source": [
    "def getImageSizes(image_files, dir_='train'):\n",
    "    \n",
    "    output = defaultdict(list)\n",
    "    for cat in image_files:\n",
    "        for image_name in tqdm(image_files[cat], desc=f'Class {cat:02}'):\n",
    "            if dir_ == 'train':\n",
    "                filepath = os.path.join(\n",
    "                    DATAPATH, dir_, dir_, f'{cat:02}', image_name\n",
    "                )\n",
    "            elif dir_ == 'test':\n",
    "                filepath = os.path.join(\n",
    "                    DATAPATH, dir_, dir_, image_name\n",
    "                )\n",
    "            img = cv2.imread(filepath)\n",
    "            output[cat].append(img.shape)\n",
    "        \n",
    "    return dict(output)"
   ]
  },
  {
   "cell_type": "code",
   "execution_count": 8,
   "metadata": {
    "ExecuteTime": {
     "end_time": "2020-06-20T15:58:02.420889Z",
     "start_time": "2020-06-20T15:58:02.391259Z"
    }
   },
   "outputs": [],
   "source": [
    "image_files = df_train.groupby('category').filename.apply(list).to_dict()"
   ]
  },
  {
   "cell_type": "code",
   "execution_count": 9,
   "metadata": {
    "ExecuteTime": {
     "end_time": "2020-06-20T16:28:08.146018Z",
     "start_time": "2020-06-20T15:58:02.422810Z"
    },
    "scrolled": true
   },
   "outputs": [
    {
     "name": "stderr",
     "output_type": "stream",
     "text": [
      "Class 00: 100%|██████████| 2683/2683 [00:51<00:00, 52.14it/s]\n",
      "Class 01: 100%|██████████| 2702/2702 [00:49<00:00, 54.74it/s]\n",
      "Class 02: 100%|██████████| 2687/2687 [00:54<00:00, 47.19it/s]\n",
      "Class 03: 100%|██████████| 2703/2703 [00:51<00:00, 50.56it/s]\n",
      "Class 04: 100%|██████████| 2703/2703 [00:47<00:00, 57.17it/s]\n",
      "Class 05: 100%|██████████| 2641/2641 [00:40<00:00, 65.10it/s]\n",
      "Class 06: 100%|██████████| 2641/2641 [00:46<00:00, 56.54it/s]\n",
      "Class 07: 100%|██████████| 2660/2660 [00:42<00:00, 61.87it/s]\n",
      "Class 08: 100%|██████████| 2700/2700 [00:46<00:00, 58.57it/s]\n",
      "Class 09: 100%|██████████| 2698/2698 [00:44<00:00, 60.24it/s]\n",
      "Class 10: 100%|██████████| 2672/2672 [00:47<00:00, 56.78it/s]\n",
      "Class 11: 100%|██████████| 1843/1843 [00:29<00:00, 56.90it/s]\n",
      "Class 12: 100%|██████████| 2691/2691 [00:47<00:00, 56.86it/s]\n",
      "Class 13: 100%|██████████| 2682/2682 [00:40<00:00, 65.52it/s]\n",
      "Class 14: 100%|██████████| 2684/2684 [00:41<00:00, 65.30it/s]\n",
      "Class 15: 100%|██████████| 2632/2632 [00:44<00:00, 65.40it/s]\n",
      "Class 16: 100%|██████████| 2665/2665 [00:47<00:00, 55.96it/s]\n",
      "Class 17: 100%|██████████| 1553/1553 [00:22<00:00, 69.41it/s]\n",
      "Class 18: 100%|██████████| 2103/2103 [00:31<00:00, 67.31it/s]\n",
      "Class 19: 100%|██████████| 2679/2679 [00:45<00:00, 58.43it/s]\n",
      "Class 20: 100%|██████████| 2653/2653 [00:46<00:00, 57.64it/s]\n",
      "Class 21: 100%|██████████| 2598/2598 [00:48<00:00, 53.86it/s]\n",
      "Class 22: 100%|██████████| 2623/2623 [00:49<00:00, 52.64it/s]\n",
      "Class 23: 100%|██████████| 2540/2540 [00:43<00:00, 58.97it/s]\n",
      "Class 24: 100%|██████████| 2705/2705 [00:52<00:00, 51.81it/s]\n",
      "Class 25: 100%|██████████| 2692/2692 [00:50<00:00, 52.91it/s]\n",
      "Class 26: 100%|██████████| 2684/2684 [00:51<00:00, 50.62it/s]\n",
      "Class 27: 100%|██████████| 2702/2702 [00:49<00:00, 54.68it/s]\n",
      "Class 28: 100%|██████████| 2561/2561 [00:45<00:00, 55.88it/s]\n",
      "Class 29: 100%|██████████| 2138/2138 [00:38<00:00, 55.73it/s]\n",
      "Class 30: 100%|██████████| 2705/2705 [00:49<00:00, 54.42it/s]\n",
      "Class 31: 100%|██████████| 2677/2677 [00:43<00:00, 61.05it/s]\n",
      "Class 32: 100%|██████████| 2157/2157 [00:34<00:00, 68.33it/s]\n",
      "Class 33: 100%|██████████| 573/573 [00:08<00:00, 64.14it/s]\n",
      "Class 34: 100%|██████████| 2599/2599 [00:40<00:00, 64.83it/s]\n",
      "Class 35: 100%|██████████| 2658/2658 [00:39<00:00, 67.54it/s]\n",
      "Class 36: 100%|██████████| 2686/2686 [00:39<00:00, 72.93it/s]\n",
      "Class 37: 100%|██████████| 1725/1725 [00:24<00:00, 69.83it/s]\n",
      "Class 38: 100%|██████████| 2673/2673 [00:45<00:00, 59.34it/s]\n",
      "Class 39: 100%|██████████| 2678/2678 [00:46<00:00, 57.11it/s]\n",
      "Class 40: 100%|██████████| 2681/2681 [00:42<00:00, 63.01it/s]\n",
      "Class 41: 100%|██████████| 2662/2662 [00:42<00:00, 62.60it/s]\n"
     ]
    }
   ],
   "source": [
    "imageSizes = getImageSizes(image_files)"
   ]
  },
  {
   "cell_type": "code",
   "execution_count": 10,
   "metadata": {
    "ExecuteTime": {
     "end_time": "2020-06-20T16:28:08.152705Z",
     "start_time": "2020-06-20T16:28:08.148735Z"
    }
   },
   "outputs": [],
   "source": [
    "import numpy as np"
   ]
  },
  {
   "cell_type": "code",
   "execution_count": 12,
   "metadata": {
    "ExecuteTime": {
     "end_time": "2020-06-21T03:12:14.095626Z",
     "start_time": "2020-06-21T03:12:14.000303Z"
    }
   },
   "outputs": [],
   "source": [
    "heights = []\n",
    "widths = []\n",
    "channels = []\n",
    "\n",
    "for cat in imageSizes:\n",
    "    for imgSize in imageSizes[cat]:\n",
    "        h, w, c = imgSize\n",
    "        heights.append(h)\n",
    "        widths.append(w)\n",
    "        channels.append(c)\n",
    "        \n",
    "heights = np.array(heights)\n",
    "widths = np.array(widths)\n",
    "channels = np.array(channels)"
   ]
  },
  {
   "cell_type": "code",
   "execution_count": 13,
   "metadata": {
    "ExecuteTime": {
     "end_time": "2020-06-21T03:12:17.248113Z",
     "start_time": "2020-06-21T03:12:15.683730Z"
    }
   },
   "outputs": [
    {
     "data": {
      "text/plain": [
       "DescribeResult(nobs=105392, minmax=(1, 1024), mean=709.6242693942614, variance=29045.238971484694, skewness=-0.012501196944593212, kurtosis=0.14150963929741112)"
      ]
     },
     "execution_count": 13,
     "metadata": {},
     "output_type": "execute_result"
    }
   ],
   "source": [
    "from scipy import stats\n",
    "\n",
    "stats.describe(heights)"
   ]
  },
  {
   "cell_type": "code",
   "execution_count": 14,
   "metadata": {
    "ExecuteTime": {
     "end_time": "2020-06-21T03:12:20.729779Z",
     "start_time": "2020-06-21T03:12:20.715493Z"
    }
   },
   "outputs": [
    {
     "data": {
      "text/plain": [
       "DescribeResult(nobs=105392, minmax=(1, 1024), mean=709.602522013056, variance=29054.401004351887, skewness=-0.012696186202088542, kurtosis=0.1409058731604098)"
      ]
     },
     "execution_count": 14,
     "metadata": {},
     "output_type": "execute_result"
    }
   ],
   "source": [
    "stats.describe(widths)"
   ]
  },
  {
   "cell_type": "code",
   "execution_count": 15,
   "metadata": {
    "ExecuteTime": {
     "end_time": "2020-06-21T03:12:21.730090Z",
     "start_time": "2020-06-21T03:12:21.716406Z"
    }
   },
   "outputs": [
    {
     "data": {
      "text/plain": [
       "DescribeResult(nobs=105392, minmax=(3, 3), mean=3.0, variance=0.0, skewness=0.0, kurtosis=-3.0)"
      ]
     },
     "execution_count": 15,
     "metadata": {},
     "output_type": "execute_result"
    }
   ],
   "source": [
    "stats.describe(channels)"
   ]
  },
  {
   "cell_type": "code",
   "execution_count": 16,
   "metadata": {
    "ExecuteTime": {
     "end_time": "2020-06-21T03:12:28.000701Z",
     "start_time": "2020-06-21T03:12:27.936150Z"
    }
   },
   "outputs": [
    {
     "data": {
      "text/plain": [
       "105356"
      ]
     },
     "execution_count": 16,
     "metadata": {},
     "output_type": "execute_result"
    }
   ],
   "source": [
    "squares = 0\n",
    "for h, w in zip(widths, heights):\n",
    "    if h == w:\n",
    "        squares += 1\n",
    "squares"
   ]
  },
  {
   "cell_type": "code",
   "execution_count": 17,
   "metadata": {
    "ExecuteTime": {
     "end_time": "2020-06-21T03:12:30.331521Z",
     "start_time": "2020-06-21T03:12:30.324253Z"
    }
   },
   "outputs": [
    {
     "data": {
      "text/plain": [
       "array([ 729, 1024,  800,  700,  800,  500,  800,  600,  640,  800])"
      ]
     },
     "execution_count": 17,
     "metadata": {},
     "output_type": "execute_result"
    }
   ],
   "source": [
    "widths[:10]"
   ]
  },
  {
   "cell_type": "code",
   "execution_count": 19,
   "metadata": {
    "ExecuteTime": {
     "end_time": "2020-06-21T03:12:33.201289Z",
     "start_time": "2020-06-21T03:12:33.194791Z"
    }
   },
   "outputs": [
    {
     "data": {
      "text/plain": [
       "array([ 729, 1024,  800,  700,  800,  500,  800,  600,  640,  800])"
      ]
     },
     "execution_count": 19,
     "metadata": {},
     "output_type": "execute_result"
    }
   ],
   "source": [
    "heights[:10]"
   ]
  },
  {
   "cell_type": "code",
   "execution_count": 33,
   "metadata": {
    "ExecuteTime": {
     "end_time": "2020-06-21T03:38:03.085749Z",
     "start_time": "2020-06-21T03:38:02.843732Z"
    }
   },
   "outputs": [
    {
     "data": {
      "image/png": "[encoded data removed]",
      "text/plain": [
       "<Figure size 864x504 with 1 Axes>"
      ]
     },
     "metadata": {},
     "output_type": "display_data"
    }
   ],
   "source": [
    "fig, ax = plt.subplots(figsize=(12,7))\n",
    "\n",
    "ax.hist(heights, bins=20);\n",
    "ax.set(ylabel='Frequency', xlabel='Height/Width', title='Image Size Distribution')\n",
    "ax.yaxis.set_major_formatter(mpl.ticker.StrMethodFormatter('{x:,.0f}'));"
   ]
  }
 ],
 "metadata": {
  "kernelspec": {
   "display_name": "Python 3",
   "language": "python",
   "name": "python3"
  },
  "language_info": {
   "codemirror_mode": {
    "name": "ipython",
    "version": 3
   },
   "file_extension": ".py",
   "mimetype": "text/x-python",
   "name": "python",
   "nbconvert_exporter": "python",
   "pygments_lexer": "ipython3",
   "version": "3.7.3"
  },
  "toc": {
   "base_numbering": 1,
   "nav_menu": {},
   "number_sections": true,
   "sideBar": true,
   "skip_h1_title": true,
   "title_cell": "Table of Contents",
   "title_sidebar": "Contents",
   "toc_cell": false,
   "toc_position": {},
   "toc_section_display": true,
   "toc_window_display": false
  }
 },
 "nbformat": 4,
 "nbformat_minor": 2
}
