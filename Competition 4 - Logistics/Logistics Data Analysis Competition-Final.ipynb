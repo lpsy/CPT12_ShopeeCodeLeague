{
 "cells": [
  {
   "cell_type": "markdown",
   "metadata": {},
   "source": [
    "score: 1.0000"
   ]
  },
  {
   "cell_type": "code",
   "execution_count": 1,
   "metadata": {
    "ExecuteTime": {
     "end_time": "2020-07-11T17:49:36.388479Z",
     "start_time": "2020-07-11T17:49:36.122908Z"
    },
    "scrolled": true
   },
   "outputs": [
    {
     "name": "stderr",
     "output_type": "stream",
     "text": [
      "/opt/conda/lib/python3.7/site-packages/tqdm/std.py:668: FutureWarning: The Panel class is removed from pandas. Accessing it from the top-level namespace will also be removed in the next version\n",
      "  from pandas import Panel\n"
     ]
    }
   ],
   "source": [
    "import time\n",
    "import datetime as dt\n",
    "\n",
    "import numpy as np\n",
    "import pandas as pd\n",
    "\n",
    "from tqdm import tqdm\n",
    "\n",
    "tqdm.pandas()"
   ]
  },
  {
   "cell_type": "code",
   "execution_count": 2,
   "metadata": {
    "ExecuteTime": {
     "end_time": "2020-07-11T17:49:46.431342Z",
     "start_time": "2020-07-11T17:49:36.390097Z"
    }
   },
   "outputs": [],
   "source": [
    "df_orders = pd.read_csv('delivery_orders_march.csv')"
   ]
  },
  {
   "cell_type": "code",
   "execution_count": 3,
   "metadata": {
    "ExecuteTime": {
     "end_time": "2020-07-11T17:50:10.297004Z",
     "start_time": "2020-07-11T17:49:46.433870Z"
    }
   },
   "outputs": [
    {
     "name": "stderr",
     "output_type": "stream",
     "text": [
      "100%|██████████| 3176313/3176313 [00:07<00:00, 409292.66it/s]\n",
      "100%|██████████| 3176313/3176313 [00:08<00:00, 386722.52it/s]\n",
      "100%|██████████| 3176313/3176313 [00:07<00:00, 410647.38it/s]\n"
     ]
    }
   ],
   "source": [
    "def epoch_gmt8(X):\n",
    "    return (dt.datetime.utcfromtimestamp(X) + dt.timedelta(hours=8)).date()\n",
    "\n",
    "df_orders['2nd_deliver_attempt'] = df_orders['2nd_deliver_attempt'].replace(np.nan,0)\n",
    "df_orders['pick_date'] = df_orders['pick'].progress_apply(epoch_gmt8)\n",
    "df_orders['1st_attempt_date'] = df_orders['1st_deliver_attempt'].progress_apply(epoch_gmt8)\n",
    "df_orders['2nd_attempt_date'] = df_orders['2nd_deliver_attempt'].progress_apply(epoch_gmt8)"
   ]
  },
  {
   "cell_type": "code",
   "execution_count": 4,
   "metadata": {
    "ExecuteTime": {
     "end_time": "2020-07-11T17:50:10.304451Z",
     "start_time": "2020-07-11T17:50:10.300827Z"
    }
   },
   "outputs": [],
   "source": [
    "holidays = ['2020-03-08', '2020-03-25', '2020-03-30', '2020-03-31']\n",
    "weekmask = 'Mon Tue Wed Thu Fri Sat'\n",
    "\n",
    "calendar = np.busdaycalendar(weekmask=weekmask, holidays=holidays)"
   ]
  },
  {
   "cell_type": "code",
   "execution_count": 5,
   "metadata": {
    "ExecuteTime": {
     "end_time": "2020-07-11T17:50:31.518405Z",
     "start_time": "2020-07-11T17:50:10.306357Z"
    }
   },
   "outputs": [
    {
     "name": "stderr",
     "output_type": "stream",
     "text": [
      "100%|██████████| 3176313/3176313 [00:21<00:00, 150191.73it/s]\n"
     ]
    }
   ],
   "source": [
    "def checkPickDate(X):\n",
    "    while True:\n",
    "        if np.is_busday(X, busdaycal=calendar):\n",
    "            return X\n",
    "        else:\n",
    "            X += dt.timedelta(days=1)\n",
    "            \n",
    "df_orders['pick_date'] = df_orders['pick_date'].progress_apply(checkPickDate)"
   ]
  },
  {
   "cell_type": "code",
   "execution_count": 6,
   "metadata": {
    "ExecuteTime": {
     "end_time": "2020-07-11T17:50:38.809296Z",
     "start_time": "2020-07-11T17:50:31.521642Z"
    }
   },
   "outputs": [],
   "source": [
    "def getRegion(X):\n",
    "    X = X.split(' ')[-1].lower()\n",
    "    \n",
    "    if X == 'manila':\n",
    "        return 'metro manila'\n",
    "    else:\n",
    "        return X\n",
    "\n",
    "df_orders['buyer_region'] = df_orders['buyeraddress'].apply(getRegion)\n",
    "df_orders['seller_region'] = df_orders['selleraddress'].apply(getRegion)"
   ]
  },
  {
   "cell_type": "code",
   "execution_count": 7,
   "metadata": {
    "ExecuteTime": {
     "end_time": "2020-07-11T17:50:54.167064Z",
     "start_time": "2020-07-11T17:50:38.811815Z"
    }
   },
   "outputs": [],
   "source": [
    "df_orders['1st_attempt_leadtime'] = np.busday_count(df_orders['pick_date'],\n",
    "                                                    df_orders['1st_attempt_date'],\n",
    "                                                    busdaycal=calendar)\n",
    "\n",
    "df_orders['2nd_attempt_leadtime'] = np.busday_count(df_orders['1st_attempt_date'],\n",
    "                                                    df_orders['2nd_attempt_date'],\n",
    "                                                    busdaycal=calendar)"
   ]
  },
  {
   "cell_type": "code",
   "execution_count": 8,
   "metadata": {
    "ExecuteTime": {
     "end_time": "2020-07-11T17:52:37.443886Z",
     "start_time": "2020-07-11T17:50:54.169447Z"
    }
   },
   "outputs": [
    {
     "name": "stderr",
     "output_type": "stream",
     "text": [
      "100%|██████████| 3176313/3176313 [01:43<00:00, 30763.58it/s]\n"
     ]
    }
   ],
   "source": [
    "sla = {\n",
    "    'metro manila': {'metro manila':3, 'luzon':5, 'visayas':7, 'mindanao':7},\n",
    "    'luzon': {'metro manila':5, 'luzon':5, 'visayas':7, 'mindanao':7},\n",
    "    'visayas': {'metro manila':7, 'luzon':7, 'visayas':7, 'mindanao':7},\n",
    "    'mindanao': {'metro manila':7, 'luzon':7, 'visayas':7, 'mindanao':7}\n",
    "}\n",
    "\n",
    "def getSLA(X):\n",
    "    return sla[X.seller_region][X.buyer_region]\n",
    "\n",
    "df_orders['sla'] = df_orders.progress_apply(getSLA, axis=1)"
   ]
  },
  {
   "cell_type": "code",
   "execution_count": 9,
   "metadata": {
    "ExecuteTime": {
     "end_time": "2020-07-11T17:52:37.462770Z",
     "start_time": "2020-07-11T17:52:37.445963Z"
    }
   },
   "outputs": [],
   "source": [
    "df_orders['isFirstLate'] = (df_orders['1st_attempt_leadtime'] > df_orders['sla'])\n",
    "df_orders['is2ndLate'] = (df_orders['2nd_attempt_leadtime'] > 3)"
   ]
  },
  {
   "cell_type": "code",
   "execution_count": 10,
   "metadata": {
    "ExecuteTime": {
     "end_time": "2020-07-11T17:52:37.481333Z",
     "start_time": "2020-07-11T17:52:37.464322Z"
    }
   },
   "outputs": [],
   "source": [
    "df_orders['is_late'] = (df_orders['1st_attempt_leadtime'] > df_orders['sla']) | (df_orders['2nd_attempt_leadtime'] > 3)"
   ]
  },
  {
   "cell_type": "code",
   "execution_count": 11,
   "metadata": {
    "ExecuteTime": {
     "end_time": "2020-07-11T17:52:41.850759Z",
     "start_time": "2020-07-11T17:52:37.482744Z"
    }
   },
   "outputs": [],
   "source": [
    "df_orders[['orderid', 'is_late']].to_csv('submission.csv', index=False)"
   ]
  }
 ],
 "metadata": {
  "kernelspec": {
   "display_name": "Python 3",
   "language": "python",
   "name": "python3"
  },
  "language_info": {
   "codemirror_mode": {
    "name": "ipython",
    "version": 3
   },
   "file_extension": ".py",
   "mimetype": "text/x-python",
   "name": "python",
   "nbconvert_exporter": "python",
   "pygments_lexer": "ipython3",
   "version": "3.7.6"
  },
  "toc": {
   "base_numbering": 1,
   "nav_menu": {},
   "number_sections": true,
   "sideBar": true,
   "skip_h1_title": true,
   "title_cell": "Table of Contents",
   "title_sidebar": "Contents",
   "toc_cell": false,
   "toc_position": {},
   "toc_section_display": true,
   "toc_window_display": false
  }
 },
 "nbformat": 4,
 "nbformat_minor": 4
}
