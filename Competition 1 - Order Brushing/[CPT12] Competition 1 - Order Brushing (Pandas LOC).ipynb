{
 "cells": [
  {
   "cell_type": "markdown",
   "metadata": {},
   "source": [
    "# [CPT12] Competition 1 - Order Brushing\n",
    "\n",
    "Using Pandas Loc  \n",
    "Score: 0.88950"
   ]
  },
  {
   "cell_type": "code",
   "execution_count": 1,
   "metadata": {
    "ExecuteTime": {
     "end_time": "2020-06-13T10:35:21.043104Z",
     "start_time": "2020-06-13T10:35:20.571390Z"
    }
   },
   "outputs": [],
   "source": [
    "import pandas as pd\n",
    "import datetime as dt"
   ]
  },
  {
   "cell_type": "code",
   "execution_count": 2,
   "metadata": {
    "ExecuteTime": {
     "end_time": "2020-06-13T10:35:27.033547Z",
     "start_time": "2020-06-13T10:35:26.814522Z"
    }
   },
   "outputs": [],
   "source": [
    "df = pd.read_csv('Copy of Copy of order_brush_order.csv')\n",
    "df.event_time = df.event_time.astype('datetime64')"
   ]
  },
  {
   "cell_type": "code",
   "execution_count": 3,
   "metadata": {
    "ExecuteTime": {
     "end_time": "2020-06-13T10:35:42.510459Z",
     "start_time": "2020-06-13T10:35:42.491996Z"
    }
   },
   "outputs": [
    {
     "data": {
      "text/html": [
       "<div>\n",
       "<style scoped>\n",
       "    .dataframe tbody tr th:only-of-type {\n",
       "        vertical-align: middle;\n",
       "    }\n",
       "\n",
       "    .dataframe tbody tr th {\n",
       "        vertical-align: top;\n",
       "    }\n",
       "\n",
       "    .dataframe thead th {\n",
       "        text-align: right;\n",
       "    }\n",
       "</style>\n",
       "<table border=\"1\" class=\"dataframe\">\n",
       "  <thead>\n",
       "    <tr style=\"text-align: right;\">\n",
       "      <th></th>\n",
       "      <th>orderid</th>\n",
       "      <th>shopid</th>\n",
       "      <th>userid</th>\n",
       "      <th>event_time</th>\n",
       "    </tr>\n",
       "  </thead>\n",
       "  <tbody>\n",
       "    <tr>\n",
       "      <th>0</th>\n",
       "      <td>31076582227611</td>\n",
       "      <td>93950878</td>\n",
       "      <td>30530270</td>\n",
       "      <td>2019-12-27 00:23:03</td>\n",
       "    </tr>\n",
       "    <tr>\n",
       "      <th>1</th>\n",
       "      <td>31118059853484</td>\n",
       "      <td>156423439</td>\n",
       "      <td>46057927</td>\n",
       "      <td>2019-12-27 11:54:20</td>\n",
       "    </tr>\n",
       "    <tr>\n",
       "      <th>2</th>\n",
       "      <td>31123355095755</td>\n",
       "      <td>173699291</td>\n",
       "      <td>67341739</td>\n",
       "      <td>2019-12-27 13:22:35</td>\n",
       "    </tr>\n",
       "    <tr>\n",
       "      <th>3</th>\n",
       "      <td>31122059872723</td>\n",
       "      <td>63674025</td>\n",
       "      <td>149380322</td>\n",
       "      <td>2019-12-27 13:01:00</td>\n",
       "    </tr>\n",
       "    <tr>\n",
       "      <th>4</th>\n",
       "      <td>31117075665123</td>\n",
       "      <td>127249066</td>\n",
       "      <td>149493217</td>\n",
       "      <td>2019-12-27 11:37:55</td>\n",
       "    </tr>\n",
       "    <tr>\n",
       "      <th>...</th>\n",
       "      <td>...</td>\n",
       "      <td>...</td>\n",
       "      <td>...</td>\n",
       "      <td>...</td>\n",
       "    </tr>\n",
       "    <tr>\n",
       "      <th>222745</th>\n",
       "      <td>31245479170194</td>\n",
       "      <td>110868129</td>\n",
       "      <td>193218997</td>\n",
       "      <td>2019-12-28 23:17:59</td>\n",
       "    </tr>\n",
       "    <tr>\n",
       "      <th>222746</th>\n",
       "      <td>31230440360374</td>\n",
       "      <td>91639906</td>\n",
       "      <td>3541807</td>\n",
       "      <td>2019-12-28 19:07:20</td>\n",
       "    </tr>\n",
       "    <tr>\n",
       "      <th>222747</th>\n",
       "      <td>31191471145838</td>\n",
       "      <td>29391773</td>\n",
       "      <td>135908070</td>\n",
       "      <td>2019-12-28 08:17:52</td>\n",
       "    </tr>\n",
       "    <tr>\n",
       "      <th>222748</th>\n",
       "      <td>31198471732255</td>\n",
       "      <td>61556313</td>\n",
       "      <td>27306783</td>\n",
       "      <td>2019-12-28 10:14:31</td>\n",
       "    </tr>\n",
       "    <tr>\n",
       "      <th>222749</th>\n",
       "      <td>31164356713822</td>\n",
       "      <td>147941492</td>\n",
       "      <td>127484153</td>\n",
       "      <td>2019-12-28 00:45:56</td>\n",
       "    </tr>\n",
       "  </tbody>\n",
       "</table>\n",
       "<p>222750 rows × 4 columns</p>\n",
       "</div>"
      ],
      "text/plain": [
       "               orderid     shopid     userid          event_time\n",
       "0       31076582227611   93950878   30530270 2019-12-27 00:23:03\n",
       "1       31118059853484  156423439   46057927 2019-12-27 11:54:20\n",
       "2       31123355095755  173699291   67341739 2019-12-27 13:22:35\n",
       "3       31122059872723   63674025  149380322 2019-12-27 13:01:00\n",
       "4       31117075665123  127249066  149493217 2019-12-27 11:37:55\n",
       "...                ...        ...        ...                 ...\n",
       "222745  31245479170194  110868129  193218997 2019-12-28 23:17:59\n",
       "222746  31230440360374   91639906    3541807 2019-12-28 19:07:20\n",
       "222747  31191471145838   29391773  135908070 2019-12-28 08:17:52\n",
       "222748  31198471732255   61556313   27306783 2019-12-28 10:14:31\n",
       "222749  31164356713822  147941492  127484153 2019-12-28 00:45:56\n",
       "\n",
       "[222750 rows x 4 columns]"
      ]
     },
     "execution_count": 3,
     "metadata": {},
     "output_type": "execute_result"
    }
   ],
   "source": [
    "df"
   ]
  },
  {
   "cell_type": "code",
   "execution_count": 8,
   "metadata": {
    "ExecuteTime": {
     "end_time": "2020-06-13T10:46:32.865842Z",
     "start_time": "2020-06-13T10:46:32.848550Z"
    }
   },
   "outputs": [],
   "source": [
    "from tqdm import tqdm"
   ]
  },
  {
   "cell_type": "code",
   "execution_count": 42,
   "metadata": {
    "ExecuteTime": {
     "end_time": "2020-06-13T11:04:20.472007Z",
     "start_time": "2020-06-13T11:02:24.120691Z"
    }
   },
   "outputs": [
    {
     "name": "stderr",
     "output_type": "stream",
     "text": [
      "  0%|          | 0/18770 [00:00<?, ?it/s]/Users/aven/opt/anaconda3/lib/python3.7/site-packages/ipykernel_launcher.py:7: SettingWithCopyWarning: \n",
      "A value is trying to be set on a copy of a slice from a DataFrame\n",
      "\n",
      "See the caveats in the documentation: http://pandas.pydata.org/pandas-docs/stable/user_guide/indexing.html#returning-a-view-versus-a-copy\n",
      "  import sys\n",
      "100%|██████████| 18770/18770 [01:56<00:00, 161.34it/s] \n"
     ]
    }
   ],
   "source": [
    "predictions = {}\n",
    "for shopid, df_shop in tqdm(df.groupby('shopid'), total=df.shopid.nunique()):\n",
    "    if df_shop.shape[0] < 3:\n",
    "        predictions[shopid] = '0'\n",
    "        continue\n",
    "        \n",
    "    df_shop.sort_values('event_time', inplace=True)\n",
    "    df_shop.set_index('event_time', inplace=True)\n",
    "    \n",
    "    suspected = pd.DataFrame()\n",
    "    for _, row in df_shop.iterrows():\n",
    "        start_time = row.name\n",
    "        end_time = start_time + dt.timedelta(hours=1)\n",
    "        \n",
    "        df_orders = df_shop.loc[start_time:end_time]\n",
    "        conc_rate = len(df_orders)/df_orders.userid.nunique()\n",
    "        \n",
    "        if conc_rate >= 3:\n",
    "            suspected = suspected.append(\n",
    "                df_orders.userid.value_counts().reset_index()\n",
    "            )\n",
    "    \n",
    "    if len(suspected) == 0:\n",
    "        predictions[shopid] = '0'\n",
    "        continue\n",
    "    \n",
    "    suspected = (suspected\n",
    "                 .groupby('index')['userid']\n",
    "                 .sum()\n",
    "                 .sort_values(ascending=False))\n",
    "    top_suspect = suspected.iloc[0]\n",
    "    tagged_users = []\n",
    "    for user, count in suspected.items():\n",
    "        if count == top_suspect:\n",
    "            tagged_users.append(user)\n",
    "        else:\n",
    "            break\n",
    "    if len(tagged_users) > 1:\n",
    "        pred = '&'.join(str(i) for i in sorted(tagged_users))\n",
    "    else:\n",
    "        pred = str(tagged_users[0])\n",
    "    predictions[shopid] = pred       "
   ]
  },
  {
   "cell_type": "code",
   "execution_count": 44,
   "metadata": {
    "ExecuteTime": {
     "end_time": "2020-06-13T11:04:32.672738Z",
     "start_time": "2020-06-13T11:04:32.625784Z"
    }
   },
   "outputs": [],
   "source": [
    "new_pred_df = (pd.DataFrame\n",
    "               .from_dict(predictions, orient='index')\n",
    "               .reset_index()\n",
    "               .rename({'index':'shopid', 0:'userid'},\n",
    "                       axis=1)\n",
    "              )\n",
    "new_pred_df.to_csv('submission4.csv', index=False)"
   ]
  },
  {
   "cell_type": "code",
   "execution_count": 45,
   "metadata": {
    "ExecuteTime": {
     "end_time": "2020-06-13T11:04:33.259566Z",
     "start_time": "2020-06-13T11:04:33.247056Z"
    }
   },
   "outputs": [
    {
     "data": {
      "text/html": [
       "<div>\n",
       "<style scoped>\n",
       "    .dataframe tbody tr th:only-of-type {\n",
       "        vertical-align: middle;\n",
       "    }\n",
       "\n",
       "    .dataframe tbody tr th {\n",
       "        vertical-align: top;\n",
       "    }\n",
       "\n",
       "    .dataframe thead th {\n",
       "        text-align: right;\n",
       "    }\n",
       "</style>\n",
       "<table border=\"1\" class=\"dataframe\">\n",
       "  <thead>\n",
       "    <tr style=\"text-align: right;\">\n",
       "      <th></th>\n",
       "      <th>shopid</th>\n",
       "      <th>userid</th>\n",
       "    </tr>\n",
       "  </thead>\n",
       "  <tbody>\n",
       "    <tr>\n",
       "      <th>40</th>\n",
       "      <td>10402</td>\n",
       "      <td>77819</td>\n",
       "    </tr>\n",
       "    <tr>\n",
       "      <th>57</th>\n",
       "      <td>10536</td>\n",
       "      <td>672345</td>\n",
       "    </tr>\n",
       "    <tr>\n",
       "      <th>111</th>\n",
       "      <td>42472</td>\n",
       "      <td>740844</td>\n",
       "    </tr>\n",
       "    <tr>\n",
       "      <th>114</th>\n",
       "      <td>42818</td>\n",
       "      <td>170385453</td>\n",
       "    </tr>\n",
       "    <tr>\n",
       "      <th>129</th>\n",
       "      <td>76934</td>\n",
       "      <td>190449497</td>\n",
       "    </tr>\n",
       "    <tr>\n",
       "      <th>...</th>\n",
       "      <td>...</td>\n",
       "      <td>...</td>\n",
       "    </tr>\n",
       "    <tr>\n",
       "      <th>17401</th>\n",
       "      <td>203531250</td>\n",
       "      <td>114282846</td>\n",
       "    </tr>\n",
       "    <tr>\n",
       "      <th>17960</th>\n",
       "      <td>204225676</td>\n",
       "      <td>198662175</td>\n",
       "    </tr>\n",
       "    <tr>\n",
       "      <th>18155</th>\n",
       "      <td>208696908</td>\n",
       "      <td>214111334</td>\n",
       "    </tr>\n",
       "    <tr>\n",
       "      <th>18557</th>\n",
       "      <td>210197928</td>\n",
       "      <td>52867898</td>\n",
       "    </tr>\n",
       "    <tr>\n",
       "      <th>18704</th>\n",
       "      <td>213141071</td>\n",
       "      <td>213646699</td>\n",
       "    </tr>\n",
       "  </tbody>\n",
       "</table>\n",
       "<p>276 rows × 2 columns</p>\n",
       "</div>"
      ],
      "text/plain": [
       "          shopid     userid\n",
       "40         10402      77819\n",
       "57         10536     672345\n",
       "111        42472     740844\n",
       "114        42818  170385453\n",
       "129        76934  190449497\n",
       "...          ...        ...\n",
       "17401  203531250  114282846\n",
       "17960  204225676  198662175\n",
       "18155  208696908  214111334\n",
       "18557  210197928   52867898\n",
       "18704  213141071  213646699\n",
       "\n",
       "[276 rows x 2 columns]"
      ]
     },
     "execution_count": 45,
     "metadata": {},
     "output_type": "execute_result"
    }
   ],
   "source": [
    "new_pred_df[new_pred_df.userid!='0']"
   ]
  }
 ],
 "metadata": {
  "kernelspec": {
   "display_name": "Python 3",
   "language": "python",
   "name": "python3"
  },
  "language_info": {
   "codemirror_mode": {
    "name": "ipython",
    "version": 3
   },
   "file_extension": ".py",
   "mimetype": "text/x-python",
   "name": "python",
   "nbconvert_exporter": "python",
   "pygments_lexer": "ipython3",
   "version": "3.7.6"
  },
  "toc": {
   "base_numbering": 1,
   "nav_menu": {},
   "number_sections": false,
   "sideBar": true,
   "skip_h1_title": true,
   "title_cell": "Table of Contents",
   "title_sidebar": "Contents",
   "toc_cell": false,
   "toc_position": {},
   "toc_section_display": true,
   "toc_window_display": false
  }
 },
 "nbformat": 4,
 "nbformat_minor": 4
}
