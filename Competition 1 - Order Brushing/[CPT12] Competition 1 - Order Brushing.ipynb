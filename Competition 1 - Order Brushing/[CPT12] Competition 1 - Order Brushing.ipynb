{
 "cells": [
  {
   "cell_type": "markdown",
   "metadata": {},
   "source": [
    "# [CPT12] Competition 1 - Order Brushing\n",
    "\n",
    "Score: 0.81093"
   ]
  },
  {
   "cell_type": "code",
   "execution_count": 1,
   "metadata": {
    "ExecuteTime": {
     "end_time": "2020-06-13T09:22:20.967273Z",
     "start_time": "2020-06-13T09:22:20.740513Z"
    }
   },
   "outputs": [],
   "source": [
    "from joblib import Parallel, delayed"
   ]
  },
  {
   "cell_type": "code",
   "execution_count": 2,
   "metadata": {
    "ExecuteTime": {
     "end_time": "2020-06-13T09:22:21.339336Z",
     "start_time": "2020-06-13T09:22:20.969526Z"
    }
   },
   "outputs": [],
   "source": [
    "import pandas as pd\n",
    "import datetime as dt"
   ]
  },
  {
   "cell_type": "code",
   "execution_count": 3,
   "metadata": {
    "ExecuteTime": {
     "end_time": "2020-06-13T09:22:21.345327Z",
     "start_time": "2020-06-13T09:22:21.341341Z"
    }
   },
   "outputs": [],
   "source": [
    "def in_between(my_date, date1, date2):\n",
    "    return True if date1 <= my_date <= date2 else False\n",
    "\n",
    "def conc_ratio(df_conc):\n",
    "    orders = df_conc.orderid.values\n",
    "    users = df_conc.userid.value_counts()\n",
    "    \n",
    "    return len(orders)/len(users.index), users\n",
    "\n",
    "def user_ratio(shop_users):\n",
    "    ratio = shop_users/shop_users.sum()\n",
    "    return ratio.sort_values(ascending=False)"
   ]
  },
  {
   "cell_type": "code",
   "execution_count": 4,
   "metadata": {
    "ExecuteTime": {
     "end_time": "2020-06-13T09:22:21.358643Z",
     "start_time": "2020-06-13T09:22:21.347870Z"
    }
   },
   "outputs": [],
   "source": [
    "def getPredictions(df_shop):\n",
    "    # increasing filter size will increase score but also increase run-time\n",
    "    if len(df_shop) > 80:\n",
    "        pred = str(0)\n",
    "        PREDICTIONS.append(pred)\n",
    "        return pred\n",
    "    if df_shop.shape[0] < 3:\n",
    "        pred = str(0)\n",
    "        PREDICTIONS.append(pred)\n",
    "        return pred\n",
    "\n",
    "    df_shop = df_shop.sort_values('event_time')\n",
    "    \n",
    "    search_shops = dict()\n",
    "    for _, row in df_shop.iterrows():\n",
    "        start_time = row.event_time\n",
    "        end_time = row.event_time + dt.timedelta(hours=1)\n",
    "\n",
    "        df_conc = pd.DataFrame()\n",
    "        df_conc = df_conc.append(row)\n",
    "\n",
    "        for _, row2 in df_shop.iterrows():\n",
    "            if row.orderid == row2.orderid:\n",
    "                continue\n",
    "            if in_between(row2.event_time, start_time, end_time):\n",
    "                df_conc = df_conc.append(row2)\n",
    "\n",
    "        search_shops[(start_time, end_time)] = df_conc\n",
    "\n",
    "    # transactions tagged as order brushing\n",
    "    shop_users = pd.Series(dtype='int64')\n",
    "    for new_df in search_shops.values():\n",
    "        cr, users = conc_ratio(new_df)\n",
    "        if cr >= 3:\n",
    "            shop_users = shop_users.append(users)\n",
    "    if len(shop_users) == 0:\n",
    "        pred = str(0)\n",
    "    else:\n",
    "        suspicious = user_ratio(shop_users)\n",
    "        tag_buyer = suspicious.loc[suspicious.values==suspicious.max()].index.astype('int')\n",
    "\n",
    "        if len(tag_buyer) > 1:\n",
    "            pred = '&'.join(str(i) for i in sorted(tag_buyer))\n",
    "        else:\n",
    "            pred = str(tag_buyer[0])\n",
    "    return pred"
   ]
  },
  {
   "cell_type": "code",
   "execution_count": 5,
   "metadata": {
    "ExecuteTime": {
     "end_time": "2020-06-13T09:22:21.591202Z",
     "start_time": "2020-06-13T09:22:21.360356Z"
    }
   },
   "outputs": [],
   "source": [
    "df = pd.read_csv('Copy of Copy of order_brush_order.csv')\n",
    "df.event_time = df.event_time.astype('datetime64')"
   ]
  },
  {
   "cell_type": "code",
   "execution_count": 6,
   "metadata": {
    "ExecuteTime": {
     "end_time": "2020-06-13T09:27:18.176483Z",
     "start_time": "2020-06-13T09:22:21.593296Z"
    },
    "scrolled": true
   },
   "outputs": [
    {
     "name": "stderr",
     "output_type": "stream",
     "text": [
      "[Parallel(n_jobs=-1)]: Using backend LokyBackend with 8 concurrent workers.\n",
      "[Parallel(n_jobs=-1)]: Done  34 tasks      | elapsed:    1.8s\n",
      "[Parallel(n_jobs=-1)]: Done 440 tasks      | elapsed:    8.9s\n",
      "[Parallel(n_jobs=-1)]: Done 1146 tasks      | elapsed:   25.1s\n",
      "[Parallel(n_jobs=-1)]: Done 1816 tasks      | elapsed:   43.9s\n",
      "[Parallel(n_jobs=-1)]: Done 2716 tasks      | elapsed:  1.1min\n",
      "[Parallel(n_jobs=-1)]: Done 3624 tasks      | elapsed:  1.7min\n",
      "[Parallel(n_jobs=-1)]: Done 4604 tasks      | elapsed:  2.2min\n",
      "[Parallel(n_jobs=-1)]: Done 6088 tasks      | elapsed:  2.9min\n",
      "[Parallel(n_jobs=-1)]: Done 7892 tasks      | elapsed:  3.5min\n",
      "[Parallel(n_jobs=-1)]: Done 10512 tasks      | elapsed:  4.2min\n",
      "[Parallel(n_jobs=-1)]: Done 18770 out of 18770 | elapsed:  4.9min finished\n"
     ]
    }
   ],
   "source": [
    "result = Parallel(n_jobs=-1, verbose=1)(delayed(getPredictions)(df_shop) for _, df_shop in df.groupby(['shopid']))"
   ]
  },
  {
   "cell_type": "code",
   "execution_count": 17,
   "metadata": {
    "ExecuteTime": {
     "end_time": "2020-06-13T09:30:02.093649Z",
     "start_time": "2020-06-13T09:29:59.399969Z"
    }
   },
   "outputs": [],
   "source": [
    "predictions = {}\n",
    "for (shopid, _), users in zip(df.groupby('shopid'), result):\n",
    "    predictions[shopid] = users"
   ]
  },
  {
   "cell_type": "code",
   "execution_count": 18,
   "metadata": {
    "ExecuteTime": {
     "end_time": "2020-06-13T09:30:02.104152Z",
     "start_time": "2020-06-13T09:30:02.095732Z"
    }
   },
   "outputs": [],
   "source": [
    "new_pred_df = (pd.DataFrame\n",
    "               .from_dict(predictions, orient='index')\n",
    "               .reset_index()\n",
    "               .rename({'index':'shopid', 0:'userid'},\n",
    "                       axis=1)\n",
    "              )"
   ]
  },
  {
   "cell_type": "code",
   "execution_count": 19,
   "metadata": {
    "ExecuteTime": {
     "end_time": "2020-06-13T09:30:02.151731Z",
     "start_time": "2020-06-13T09:30:02.106665Z"
    }
   },
   "outputs": [],
   "source": [
    "new_pred_df.to_csv('submission3.csv', index=False)"
   ]
  },
  {
   "cell_type": "code",
   "execution_count": 22,
   "metadata": {
    "ExecuteTime": {
     "end_time": "2020-06-13T09:31:48.041026Z",
     "start_time": "2020-06-13T09:31:48.031553Z"
    }
   },
   "outputs": [
    {
     "data": {
      "text/html": [
       "<div>\n",
       "<style scoped>\n",
       "    .dataframe tbody tr th:only-of-type {\n",
       "        vertical-align: middle;\n",
       "    }\n",
       "\n",
       "    .dataframe tbody tr th {\n",
       "        vertical-align: top;\n",
       "    }\n",
       "\n",
       "    .dataframe thead th {\n",
       "        text-align: right;\n",
       "    }\n",
       "</style>\n",
       "<table border=\"1\" class=\"dataframe\">\n",
       "  <thead>\n",
       "    <tr style=\"text-align: right;\">\n",
       "      <th></th>\n",
       "      <th>shopid</th>\n",
       "      <th>userid</th>\n",
       "    </tr>\n",
       "  </thead>\n",
       "  <tbody>\n",
       "    <tr>\n",
       "      <th>40</th>\n",
       "      <td>10402</td>\n",
       "      <td>77819</td>\n",
       "    </tr>\n",
       "    <tr>\n",
       "      <th>57</th>\n",
       "      <td>10536</td>\n",
       "      <td>672345&amp;672345</td>\n",
       "    </tr>\n",
       "    <tr>\n",
       "      <th>111</th>\n",
       "      <td>42472</td>\n",
       "      <td>740844</td>\n",
       "    </tr>\n",
       "    <tr>\n",
       "      <th>114</th>\n",
       "      <td>42818</td>\n",
       "      <td>170385453</td>\n",
       "    </tr>\n",
       "    <tr>\n",
       "      <th>129</th>\n",
       "      <td>76934</td>\n",
       "      <td>190449497</td>\n",
       "    </tr>\n",
       "    <tr>\n",
       "      <th>...</th>\n",
       "      <td>...</td>\n",
       "      <td>...</td>\n",
       "    </tr>\n",
       "    <tr>\n",
       "      <th>17401</th>\n",
       "      <td>203531250</td>\n",
       "      <td>114282846</td>\n",
       "    </tr>\n",
       "    <tr>\n",
       "      <th>17960</th>\n",
       "      <td>204225676</td>\n",
       "      <td>198662175</td>\n",
       "    </tr>\n",
       "    <tr>\n",
       "      <th>18155</th>\n",
       "      <td>208696908</td>\n",
       "      <td>214111334</td>\n",
       "    </tr>\n",
       "    <tr>\n",
       "      <th>18557</th>\n",
       "      <td>210197928</td>\n",
       "      <td>52867898</td>\n",
       "    </tr>\n",
       "    <tr>\n",
       "      <th>18704</th>\n",
       "      <td>213141071</td>\n",
       "      <td>213646699</td>\n",
       "    </tr>\n",
       "  </tbody>\n",
       "</table>\n",
       "<p>243 rows × 2 columns</p>\n",
       "</div>"
      ],
      "text/plain": [
       "          shopid         userid\n",
       "40         10402          77819\n",
       "57         10536  672345&672345\n",
       "111        42472         740844\n",
       "114        42818      170385453\n",
       "129        76934      190449497\n",
       "...          ...            ...\n",
       "17401  203531250      114282846\n",
       "17960  204225676      198662175\n",
       "18155  208696908      214111334\n",
       "18557  210197928       52867898\n",
       "18704  213141071      213646699\n",
       "\n",
       "[243 rows x 2 columns]"
      ]
     },
     "execution_count": 22,
     "metadata": {},
     "output_type": "execute_result"
    }
   ],
   "source": [
    "new_pred_df[new_pred_df['userid']!='0']"
   ]
  }
 ],
 "metadata": {
  "kernelspec": {
   "display_name": "Python 3",
   "language": "python",
   "name": "python3"
  },
  "language_info": {
   "codemirror_mode": {
    "name": "ipython",
    "version": 3
   },
   "file_extension": ".py",
   "mimetype": "text/x-python",
   "name": "python",
   "nbconvert_exporter": "python",
   "pygments_lexer": "ipython3",
   "version": "3.7.6"
  },
  "toc": {
   "base_numbering": 1,
   "nav_menu": {},
   "number_sections": false,
   "sideBar": true,
   "skip_h1_title": true,
   "title_cell": "Table of Contents",
   "title_sidebar": "Contents",
   "toc_cell": false,
   "toc_position": {},
   "toc_section_display": true,
   "toc_window_display": false
  }
 },
 "nbformat": 4,
 "nbformat_minor": 4
}
